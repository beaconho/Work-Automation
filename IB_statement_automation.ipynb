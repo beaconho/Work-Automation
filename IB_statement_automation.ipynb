{
 "cells": [
  {
   "cell_type": "markdown",
   "id": "d9322af3",
   "metadata": {},
   "source": [
    "# IB monthly generation of KOL statements"
   ]
  },
  {
   "cell_type": "markdown",
   "id": "f104e454",
   "metadata": {},
   "source": [
    "1. Read the statement and source data excel"
   ]
  },
  {
   "cell_type": "code",
   "execution_count": 8,
   "id": "3ec61e2c",
   "metadata": {},
   "outputs": [
    {
     "name": "stdout",
     "output_type": "stream",
     "text": [
      "39\n",
      "6\n",
      "                     0     1     2     3       4     5\n",
      "0                  CC希   210    50   160   320.0     Y\n",
      "1                Perry    55    23    32    64.0     Y\n",
      "2                  古天后  1684   282  1402  4206.0     Y\n",
      "3                 高Sir    19     0    19    38.0     Y\n",
      "4                 #N/A   495   306   189     NaN    NA\n",
      "5                   莊主    25     7    18    36.0     Y\n",
      "6                  權爺爺   139     6   133     NaN    NA\n",
      "7           Aivestment    68     4    64   128.0     Y\n",
      "8                自由投資谷    38     1    37    74.0     Y\n",
      "9              秒投 - 超市    58    12    46     NaN    NA\n",
      "10              Gofire  1319   634   685  1370.0     Y\n",
      "11              秒投Blog   380   105   275     NaN    NA\n",
      "12                天財資本    18     0    18     NaN    NA\n",
      "13                積God     4     0     4     8.0     Y\n",
      "14           Donki2500    37    16    21     NaN    NA\n",
      "15       秒投Supermarket   243    34   209     NaN    NA\n",
      "16            Donki958    50    10    40     NaN    NA\n",
      "17               港短.英移    20     0    20     NaN    NA\n",
      "18  donki-form20211203    19     4    15     NaN    NA\n",
      "19               MissK    32     3    29    58.0     Y\n",
      "20                  葳葳    16     8     8    24.0     Y\n",
      "21             天財資本送一田    66     8    58     NaN    NA\n",
      "22                火箭聯盟     2     0     2     4.0     Y\n",
      "23               學雞闖英倫     1     0     1     3.0     Y\n",
      "24    秒投202204Campaign    11     2     9     NaN    NA\n",
      "25               80後小薯    49    15    34    68.0     Y\n",
      "26              小K投資之路    29     0    29    87.0     Y\n",
      "27          OptionMatt    10     0    10    20.0     Y\n",
      "28                 方生代     1     0     1     2.0     Y\n",
      "29                  秒投    31     2    29     NaN    NA\n",
      "30                  雲狄     1     0     1     2.0     Y\n",
      "31             投資策略硏討會     3     0     3     6.0     Y\n",
      "32                 余大師     2     0     2     4.0     Y\n",
      "33                睇佢數簿     1     0     1     2.0     Y\n",
      "34          姚浩然Patrick     1     0     1     2.0     Y\n",
      "35             秒投Stock    15     3    12     NaN    NA\n",
      "36                投資專欄     7     2     5    10.0     Y\n",
      "37                 陽燭巴     9     0     9    18.0     Y\n",
      "38         Grand Total  5168  1537  3631  6554.0  None\n"
     ]
    }
   ],
   "source": [
    "import os\n",
    "import openpyxl\n",
    "import pandas as pd\n",
    "\n",
    "path = r\"/Users/stociviva/Desktop/Python_IB_Statement\"\n",
    "os.chdir(path)\n",
    "\n",
    "workbook_template = openpyxl.load_workbook('Ad_statement_template.xlsx')\n",
    "workbook_source = openpyxl.load_workbook('Data.xlsx')\n",
    "\n",
    "sheet_result = workbook_template['Statement']\n",
    "sheet_source = workbook_source['Sheet1']\n",
    "\n",
    "df = pd.DataFrame(sheet_source.values)\n",
    "\n",
    "print(df)"
   ]
  },
  {
   "cell_type": "markdown",
   "id": "47a3ca61",
   "metadata": {},
   "source": [
    "2. Get data from DF and paste to statement excel"
   ]
  },
  {
   "cell_type": "code",
   "execution_count": null,
   "id": "ffc865dd",
   "metadata": {},
   "outputs": [],
   "source": []
  }
 ],
 "metadata": {
  "kernelspec": {
   "display_name": "Python 3 (ipykernel)",
   "language": "python",
   "name": "python3"
  },
  "language_info": {
   "codemirror_mode": {
    "name": "ipython",
    "version": 3
   },
   "file_extension": ".py",
   "mimetype": "text/x-python",
   "name": "python",
   "nbconvert_exporter": "python",
   "pygments_lexer": "ipython3",
   "version": "3.9.13"
  },
  "toc": {
   "base_numbering": 1,
   "nav_menu": {},
   "number_sections": true,
   "sideBar": true,
   "skip_h1_title": false,
   "title_cell": "Table of Contents",
   "title_sidebar": "Contents",
   "toc_cell": false,
   "toc_position": {},
   "toc_section_display": true,
   "toc_window_display": false
  }
 },
 "nbformat": 4,
 "nbformat_minor": 5
}
